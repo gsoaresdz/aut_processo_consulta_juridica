{
 "cells": [
  {
   "cell_type": "code",
   "execution_count": null,
   "id": "a5bbebcb",
   "metadata": {},
   "outputs": [],
   "source": [
    "# criar o navegador\n",
    "from selenium import webdriver\n",
    "from selenium.webdriver.chrome.service import Service\n",
    "#from webdriver_manager.chrome import ChromeDriverManager\n",
    "from selenium.webdriver.common.by import By\n",
    "\n",
    "#servico = Service(ChromeDriverManager().install())\n",
    "navegador = webdriver.Chrome()"
   ]
  },
  {
   "cell_type": "code",
   "execution_count": null,
   "id": "b1863ba7",
   "metadata": {},
   "outputs": [],
   "source": [
    "# abrir a página index (entrar no site da busca jurídica)\n",
    "import os\n",
    "caminho = os.getcwd()\n",
    "arquivo = caminho + r\"\\index.html\"\n",
    "\n",
    "navegador.get(arquivo)"
   ]
  },
  {
   "cell_type": "code",
   "execution_count": null,
   "id": "f6d4299a",
   "metadata": {},
   "outputs": [],
   "source": [
    "from selenium.webdriver import ActionChains\n",
    "\n",
    "#abrir lista de cidades\n",
    "botao = navegador.find_element(By.CLASS_NAME, 'dropdown-menu')\n",
    "ActionChains(navegador).move_to_element(botao).perform()\n",
    "\n",
    "# Selecionando o Rio de Janeiro\n",
    "navegador.find_element(By.XPATH, '/html/body/div/div/div/a[2]').click()"
   ]
  },
  {
   "cell_type": "code",
   "execution_count": null,
   "id": "bc67b116",
   "metadata": {},
   "outputs": [],
   "source": [
    "# mudar para a nova aba\n",
    "aba_original = navegador.window_handles[0]\n",
    "nova_aba = navegador.window_handles[1]\n",
    "\n",
    "navegador.switch_to.window(nova_aba)\n",
    "\n",
    "# preencher o formulário com os dados de busca\n",
    "navegador.find_element(By.ID, 'nome').send_keys('Gabriel')\n",
    "navegador.find_element(By.ID, 'advogado').send_keys('Jesus Cristo')\n",
    "navegador.find_element(By.ID, 'numero').send_keys('77')\n",
    "\n",
    "# clicar em pesquisar\n",
    "navegador.find_element(By.CLASS_NAME, 'registerbtn').click()"
   ]
  },
  {
   "cell_type": "code",
   "execution_count": null,
   "id": "e8fcc88d",
   "metadata": {},
   "outputs": [],
   "source": [
    "# confirmar a pesquisa\n",
    "alerta = navegador.switch_to.alert\n",
    "alerta.accept()"
   ]
  },
  {
   "cell_type": "code",
   "execution_count": null,
   "id": "586f5c2c",
   "metadata": {},
   "outputs": [],
   "source": [
    "# esperar o resultado da pesquisa e agir de acordo com o resultado\n",
    "from cgitb import text\n",
    "import time \n",
    "\n",
    "while True:\n",
    "  try:\n",
    "    alerta = navegador.switch_to.alert\n",
    "    break\n",
    "  except:\n",
    "    time.sleep(1) \n",
    "texto_alerta = alerta.text\n",
    "\n",
    "if 'Processo encontrado com sucesso' in texto_alerta:\n",
    "  alerta.accept()\n",
    "  print('Processo foi encontrado!')\n",
    "else:\n",
    "  print('Processo não encontrado!')\n",
    "  alerta.accept()"
   ]
  }
 ],
 "metadata": {
  "kernelspec": {
   "display_name": "Python 3.9.7 ('base')",
   "language": "python",
   "name": "python3"
  },
  "language_info": {
   "codemirror_mode": {
    "name": "ipython",
    "version": 3
   },
   "file_extension": ".py",
   "mimetype": "text/x-python",
   "name": "python",
   "nbconvert_exporter": "python",
   "pygments_lexer": "ipython3",
   "version": "3.9.7"
  },
  "vscode": {
   "interpreter": {
    "hash": "e5882f1a9d2529a8f07f4964a9aa2777d1ad98b2c770a4f48c3438835058b188"
   }
  }
 },
 "nbformat": 4,
 "nbformat_minor": 5
}
