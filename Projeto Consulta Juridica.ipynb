{
 "cells": [
  {
   "cell_type": "markdown",
   "id": "0e16544e",
   "metadata": {},
   "source": [
    "## Projeto de Consulta Juridica"
   ]
  },
  {
   "cell_type": "code",
   "execution_count": 1,
   "id": "a5bbebcb",
   "metadata": {},
   "outputs": [
    {
     "ename": "SessionNotCreatedException",
     "evalue": "Message: session not created: This version of ChromeDriver only supports Chrome version 103\nCurrent browser version is 105.0.5195.102 with binary path C:\\Program Files\\Google\\Chrome\\Application\\chrome.exe\nStacktrace:\nBacktrace:\n\tOrdinal0 [0x00895FD3+2187219]\n\tOrdinal0 [0x0082E6D1+1763025]\n\tOrdinal0 [0x00743E78+802424]\n\tOrdinal0 [0x007651F9+938489]\n\tOrdinal0 [0x00760DDC+921052]\n\tOrdinal0 [0x0075E691+910993]\n\tOrdinal0 [0x007917F0+1120240]\n\tOrdinal0 [0x0079144A+1119306]\n\tOrdinal0 [0x0078C9A6+1100198]\n\tOrdinal0 [0x00766F80+946048]\n\tOrdinal0 [0x00767E76+949878]\n\tGetHandleVerifier [0x00B390C2+2721218]\n\tGetHandleVerifier [0x00B2AAF0+2662384]\n\tGetHandleVerifier [0x0092137A+526458]\n\tGetHandleVerifier [0x00920416+522518]\n\tOrdinal0 [0x00834EAB+1789611]\n\tOrdinal0 [0x008397A8+1808296]\n\tOrdinal0 [0x00839895+1808533]\n\tOrdinal0 [0x008426C1+1844929]\n\tBaseThreadInitThunk [0x7701FA29+25]\n\tRtlGetAppContainerNamedObjectPath [0x77167A7E+286]\n\tRtlGetAppContainerNamedObjectPath [0x77167A4E+238]\n",
     "output_type": "error",
     "traceback": [
      "\u001b[1;31m---------------------------------------------------------------------------\u001b[0m",
      "\u001b[1;31mSessionNotCreatedException\u001b[0m                Traceback (most recent call last)",
      "\u001b[1;32mc:\\Users\\b2101015\\OneDrive - BULLLA SA\\ws-hashtag-programacao\\aut_processo_consulta_juridica\\Projeto Consulta Juridica.ipynb Cell 2\u001b[0m in \u001b[0;36m<cell line: 8>\u001b[1;34m()\u001b[0m\n\u001b[0;32m      <a href='vscode-notebook-cell:/c%3A/Users/b2101015/OneDrive%20-%20BULLLA%20SA/ws-hashtag-programacao/aut_processo_consulta_juridica/Projeto%20Consulta%20Juridica.ipynb#W1sZmlsZQ%3D%3D?line=4'>5</a>\u001b[0m \u001b[39mfrom\u001b[39;00m \u001b[39mselenium\u001b[39;00m\u001b[39m.\u001b[39;00m\u001b[39mwebdriver\u001b[39;00m\u001b[39m.\u001b[39;00m\u001b[39mcommon\u001b[39;00m\u001b[39m.\u001b[39;00m\u001b[39mby\u001b[39;00m \u001b[39mimport\u001b[39;00m By\n\u001b[0;32m      <a href='vscode-notebook-cell:/c%3A/Users/b2101015/OneDrive%20-%20BULLLA%20SA/ws-hashtag-programacao/aut_processo_consulta_juridica/Projeto%20Consulta%20Juridica.ipynb#W1sZmlsZQ%3D%3D?line=6'>7</a>\u001b[0m \u001b[39m#servico = Service(ChromeDriverManager().install())\u001b[39;00m\n\u001b[1;32m----> <a href='vscode-notebook-cell:/c%3A/Users/b2101015/OneDrive%20-%20BULLLA%20SA/ws-hashtag-programacao/aut_processo_consulta_juridica/Projeto%20Consulta%20Juridica.ipynb#W1sZmlsZQ%3D%3D?line=7'>8</a>\u001b[0m navegador \u001b[39m=\u001b[39m webdriver\u001b[39m.\u001b[39;49mChrome()\n",
      "File \u001b[1;32mc:\\Users\\b2101015\\Anaconda3\\lib\\site-packages\\selenium\\webdriver\\chrome\\webdriver.py:69\u001b[0m, in \u001b[0;36mWebDriver.__init__\u001b[1;34m(self, executable_path, port, options, service_args, desired_capabilities, service_log_path, chrome_options, service, keep_alive)\u001b[0m\n\u001b[0;32m     66\u001b[0m \u001b[39mif\u001b[39;00m \u001b[39mnot\u001b[39;00m service:\n\u001b[0;32m     67\u001b[0m     service \u001b[39m=\u001b[39m Service(executable_path, port, service_args, service_log_path)\n\u001b[1;32m---> 69\u001b[0m \u001b[39msuper\u001b[39;49m()\u001b[39m.\u001b[39;49m\u001b[39m__init__\u001b[39;49m(DesiredCapabilities\u001b[39m.\u001b[39;49mCHROME[\u001b[39m'\u001b[39;49m\u001b[39mbrowserName\u001b[39;49m\u001b[39m'\u001b[39;49m], \u001b[39m\"\u001b[39;49m\u001b[39mgoog\u001b[39;49m\u001b[39m\"\u001b[39;49m,\n\u001b[0;32m     70\u001b[0m                  port, options,\n\u001b[0;32m     71\u001b[0m                  service_args, desired_capabilities,\n\u001b[0;32m     72\u001b[0m                  service_log_path, service, keep_alive)\n",
      "File \u001b[1;32mc:\\Users\\b2101015\\Anaconda3\\lib\\site-packages\\selenium\\webdriver\\chromium\\webdriver.py:92\u001b[0m, in \u001b[0;36mChromiumDriver.__init__\u001b[1;34m(self, browser_name, vendor_prefix, port, options, service_args, desired_capabilities, service_log_path, service, keep_alive)\u001b[0m\n\u001b[0;32m     89\u001b[0m \u001b[39mself\u001b[39m\u001b[39m.\u001b[39mservice\u001b[39m.\u001b[39mstart()\n\u001b[0;32m     91\u001b[0m \u001b[39mtry\u001b[39;00m:\n\u001b[1;32m---> 92\u001b[0m     \u001b[39msuper\u001b[39;49m()\u001b[39m.\u001b[39;49m\u001b[39m__init__\u001b[39;49m(\n\u001b[0;32m     93\u001b[0m         command_executor\u001b[39m=\u001b[39;49mChromiumRemoteConnection(\n\u001b[0;32m     94\u001b[0m             remote_server_addr\u001b[39m=\u001b[39;49m\u001b[39mself\u001b[39;49m\u001b[39m.\u001b[39;49mservice\u001b[39m.\u001b[39;49mservice_url,\n\u001b[0;32m     95\u001b[0m             browser_name\u001b[39m=\u001b[39;49mbrowser_name, vendor_prefix\u001b[39m=\u001b[39;49mvendor_prefix,\n\u001b[0;32m     96\u001b[0m             keep_alive\u001b[39m=\u001b[39;49mkeep_alive, ignore_proxy\u001b[39m=\u001b[39;49m_ignore_proxy),\n\u001b[0;32m     97\u001b[0m         options\u001b[39m=\u001b[39;49moptions)\n\u001b[0;32m     98\u001b[0m \u001b[39mexcept\u001b[39;00m \u001b[39mException\u001b[39;00m:\n\u001b[0;32m     99\u001b[0m     \u001b[39mself\u001b[39m\u001b[39m.\u001b[39mquit()\n",
      "File \u001b[1;32mc:\\Users\\b2101015\\Anaconda3\\lib\\site-packages\\selenium\\webdriver\\remote\\webdriver.py:277\u001b[0m, in \u001b[0;36mWebDriver.__init__\u001b[1;34m(self, command_executor, desired_capabilities, browser_profile, proxy, keep_alive, file_detector, options)\u001b[0m\n\u001b[0;32m    275\u001b[0m \u001b[39mself\u001b[39m\u001b[39m.\u001b[39m_authenticator_id \u001b[39m=\u001b[39m \u001b[39mNone\u001b[39;00m\n\u001b[0;32m    276\u001b[0m \u001b[39mself\u001b[39m\u001b[39m.\u001b[39mstart_client()\n\u001b[1;32m--> 277\u001b[0m \u001b[39mself\u001b[39;49m\u001b[39m.\u001b[39;49mstart_session(capabilities, browser_profile)\n",
      "File \u001b[1;32mc:\\Users\\b2101015\\Anaconda3\\lib\\site-packages\\selenium\\webdriver\\remote\\webdriver.py:370\u001b[0m, in \u001b[0;36mWebDriver.start_session\u001b[1;34m(self, capabilities, browser_profile)\u001b[0m\n\u001b[0;32m    368\u001b[0m w3c_caps \u001b[39m=\u001b[39m _make_w3c_caps(capabilities)\n\u001b[0;32m    369\u001b[0m parameters \u001b[39m=\u001b[39m {\u001b[39m\"\u001b[39m\u001b[39mcapabilities\u001b[39m\u001b[39m\"\u001b[39m: w3c_caps}\n\u001b[1;32m--> 370\u001b[0m response \u001b[39m=\u001b[39m \u001b[39mself\u001b[39;49m\u001b[39m.\u001b[39;49mexecute(Command\u001b[39m.\u001b[39;49mNEW_SESSION, parameters)\n\u001b[0;32m    371\u001b[0m \u001b[39mif\u001b[39;00m \u001b[39m'\u001b[39m\u001b[39msessionId\u001b[39m\u001b[39m'\u001b[39m \u001b[39mnot\u001b[39;00m \u001b[39min\u001b[39;00m response:\n\u001b[0;32m    372\u001b[0m     response \u001b[39m=\u001b[39m response[\u001b[39m'\u001b[39m\u001b[39mvalue\u001b[39m\u001b[39m'\u001b[39m]\n",
      "File \u001b[1;32mc:\\Users\\b2101015\\Anaconda3\\lib\\site-packages\\selenium\\webdriver\\remote\\webdriver.py:435\u001b[0m, in \u001b[0;36mWebDriver.execute\u001b[1;34m(self, driver_command, params)\u001b[0m\n\u001b[0;32m    433\u001b[0m response \u001b[39m=\u001b[39m \u001b[39mself\u001b[39m\u001b[39m.\u001b[39mcommand_executor\u001b[39m.\u001b[39mexecute(driver_command, params)\n\u001b[0;32m    434\u001b[0m \u001b[39mif\u001b[39;00m response:\n\u001b[1;32m--> 435\u001b[0m     \u001b[39mself\u001b[39;49m\u001b[39m.\u001b[39;49merror_handler\u001b[39m.\u001b[39;49mcheck_response(response)\n\u001b[0;32m    436\u001b[0m     response[\u001b[39m'\u001b[39m\u001b[39mvalue\u001b[39m\u001b[39m'\u001b[39m] \u001b[39m=\u001b[39m \u001b[39mself\u001b[39m\u001b[39m.\u001b[39m_unwrap_value(\n\u001b[0;32m    437\u001b[0m         response\u001b[39m.\u001b[39mget(\u001b[39m'\u001b[39m\u001b[39mvalue\u001b[39m\u001b[39m'\u001b[39m, \u001b[39mNone\u001b[39;00m))\n\u001b[0;32m    438\u001b[0m     \u001b[39mreturn\u001b[39;00m response\n",
      "File \u001b[1;32mc:\\Users\\b2101015\\Anaconda3\\lib\\site-packages\\selenium\\webdriver\\remote\\errorhandler.py:247\u001b[0m, in \u001b[0;36mErrorHandler.check_response\u001b[1;34m(self, response)\u001b[0m\n\u001b[0;32m    245\u001b[0m         alert_text \u001b[39m=\u001b[39m value[\u001b[39m'\u001b[39m\u001b[39malert\u001b[39m\u001b[39m'\u001b[39m]\u001b[39m.\u001b[39mget(\u001b[39m'\u001b[39m\u001b[39mtext\u001b[39m\u001b[39m'\u001b[39m)\n\u001b[0;32m    246\u001b[0m     \u001b[39mraise\u001b[39;00m exception_class(message, screen, stacktrace, alert_text)  \u001b[39m# type: ignore[call-arg]  # mypy is not smart enough here\u001b[39;00m\n\u001b[1;32m--> 247\u001b[0m \u001b[39mraise\u001b[39;00m exception_class(message, screen, stacktrace)\n",
      "\u001b[1;31mSessionNotCreatedException\u001b[0m: Message: session not created: This version of ChromeDriver only supports Chrome version 103\nCurrent browser version is 105.0.5195.102 with binary path C:\\Program Files\\Google\\Chrome\\Application\\chrome.exe\nStacktrace:\nBacktrace:\n\tOrdinal0 [0x00895FD3+2187219]\n\tOrdinal0 [0x0082E6D1+1763025]\n\tOrdinal0 [0x00743E78+802424]\n\tOrdinal0 [0x007651F9+938489]\n\tOrdinal0 [0x00760DDC+921052]\n\tOrdinal0 [0x0075E691+910993]\n\tOrdinal0 [0x007917F0+1120240]\n\tOrdinal0 [0x0079144A+1119306]\n\tOrdinal0 [0x0078C9A6+1100198]\n\tOrdinal0 [0x00766F80+946048]\n\tOrdinal0 [0x00767E76+949878]\n\tGetHandleVerifier [0x00B390C2+2721218]\n\tGetHandleVerifier [0x00B2AAF0+2662384]\n\tGetHandleVerifier [0x0092137A+526458]\n\tGetHandleVerifier [0x00920416+522518]\n\tOrdinal0 [0x00834EAB+1789611]\n\tOrdinal0 [0x008397A8+1808296]\n\tOrdinal0 [0x00839895+1808533]\n\tOrdinal0 [0x008426C1+1844929]\n\tBaseThreadInitThunk [0x7701FA29+25]\n\tRtlGetAppContainerNamedObjectPath [0x77167A7E+286]\n\tRtlGetAppContainerNamedObjectPath [0x77167A4E+238]\n"
     ]
    }
   ],
   "source": [
    "# criar o navegador\n",
    "from selenium import webdriver\n",
    "from selenium.webdriver.chrome.service import Service\n",
    "#from webdriver_manager.chrome import ChromeDriverManager\n",
    "from selenium.webdriver.common.by import By\n",
    "\n",
    "#servico = Service(ChromeDriverManager().install())\n",
    "navegador = webdriver.Chrome()"
   ]
  },
  {
   "cell_type": "code",
   "execution_count": null,
   "id": "b1863ba7",
   "metadata": {},
   "outputs": [],
   "source": [
    "# abrir a página index (entrar no site da busca jurídica)\n",
    "import os\n",
    "caminho = os.getcwd()\n",
    "arquivo = caminho + r\"\\index.html\""
   ]
  },
  {
   "cell_type": "markdown",
   "id": "fbc27df0",
   "metadata": {},
   "source": [
    "###### Importar a base de dados"
   ]
  },
  {
   "cell_type": "code",
   "execution_count": null,
   "id": "31b3024a",
   "metadata": {},
   "outputs": [],
   "source": [
    "import pandas as pd\n",
    "\n",
    "tabela = pd.read_excel('Processos.xlsx')\n",
    "display(tabela)"
   ]
  },
  {
   "cell_type": "code",
   "execution_count": null,
   "id": "f6d4299a",
   "metadata": {},
   "outputs": [],
   "source": [
    "from operator import index\n",
    "from selenium.webdriver import ActionChains\n",
    "import time \n",
    "from cgitb import text\n",
    "\n",
    "for linha in tabela.index:\n",
    "  # para cada processo (linha da tabela)\n",
    "  navegador.get(arquivo)\n",
    "\n",
    "  #abrir lista de cidades\n",
    "  botao = navegador.find_element(By.CLASS_NAME, 'dropdown-menu')\n",
    "  ActionChains(navegador).move_to_element(botao).perform()\n",
    "\n",
    "  cidade = tabela.loc[linha, 'Cidade']\n",
    "  print(cidade)\n",
    "\n",
    "  # Selecionando o Rio de Janeiro\n",
    "  navegador.find_element(By.PARTIAL_LINK_TEXT, cidade).click()\n",
    "\n",
    "  # mudar para a nova aba\n",
    "  aba_original = navegador.window_handles[0]\n",
    "  indice = 1 + linha\n",
    "  nova_aba = navegador.window_handles[indice]\n",
    "\n",
    "  navegador.switch_to.window(nova_aba)\n",
    "  # preencher o formulário com os dados de busca\n",
    "  navegador.find_element(By.ID, 'nome').send_keys(tabela.loc[linha, \"Nome\"])\n",
    "  navegador.find_element(By.ID, 'advogado').send_keys(tabela.loc[linha, \"Advogado\"])\n",
    "  navegador.find_element(By.ID, 'numero').send_keys(tabela.loc[linha, \"Processo\"])\n",
    "\n",
    "  # clicar em pesquisar\n",
    "  navegador.find_element(By.CLASS_NAME, 'registerbtn').click()\n",
    "  \n",
    "  # confirmar a pesquisa\n",
    "  alerta = navegador.switch_to.alert\n",
    "  alerta.accept()\n",
    "\n",
    "  # esperar o resultado da pesquisa e agir de acordo com o resultado\n",
    "  \n",
    "  while True:\n",
    "    try:\n",
    "      alerta = navegador.switch_to.alert\n",
    "      break\n",
    "    except:\n",
    "      time.sleep(1) \n",
    "  texto_alerta = alerta.text\n",
    "\n",
    "  if 'Processo encontrado com sucesso' in texto_alerta:\n",
    "    alerta.accept()\n",
    "    tabela.loc[linha, \"Status\"] = \"Encontrado\"\n",
    "  else:\n",
    "    tabela.loc[linha, \"Status\"] = \"Não encontrado\"\n",
    "    alerta.accept()"
   ]
  },
  {
   "cell_type": "code",
   "execution_count": null,
   "id": "0800af24",
   "metadata": {},
   "outputs": [],
   "source": [
    "navegador.quit()\n",
    "display(tabela)\n",
    "\n",
    "tabela.to_excel(\"Processo Atualizado.xlsx\")"
   ]
  }
 ],
 "metadata": {
  "kernelspec": {
   "display_name": "Python 3 (ipykernel)",
   "language": "python",
   "name": "python3"
  },
  "language_info": {
   "codemirror_mode": {
    "name": "ipython",
    "version": 3
   },
   "file_extension": ".py",
   "mimetype": "text/x-python",
   "name": "python",
   "nbconvert_exporter": "python",
   "pygments_lexer": "ipython3",
   "version": "3.9.7"
  },
  "vscode": {
   "interpreter": {
    "hash": "e5882f1a9d2529a8f07f4964a9aa2777d1ad98b2c770a4f48c3438835058b188"
   }
  }
 },
 "nbformat": 4,
 "nbformat_minor": 5
}
