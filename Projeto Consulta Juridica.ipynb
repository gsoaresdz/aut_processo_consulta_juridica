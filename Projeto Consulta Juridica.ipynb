{
 "cells": [
  {
   "cell_type": "code",
   "execution_count": null,
   "id": "a5bbebcb",
   "metadata": {},
   "outputs": [],
   "source": [
    "# criar o navegador\n",
    "from selenium import webdriver\n",
    "from selenium.webdriver.chrome.service import Service\n",
    "from webdriver_manager.chrome import ChromeDriverManager\n",
    "from selenium.webdriver.common.by import By\n",
    "\n",
    "#servico = Service(ChromeDriverManager().install())\n",
    "navegador = webdriver.Chrome()"
   ]
  },
  {
   "cell_type": "code",
   "execution_count": null,
   "id": "b1863ba7",
   "metadata": {},
   "outputs": [],
   "source": [
    "# abrir a página index (entrar no site da busca jurídica)\n",
    "\n"
   ]
  },
  {
   "cell_type": "code",
   "execution_count": null,
   "id": "08a27004",
   "metadata": {},
   "outputs": [],
   "source": [
    "# importar a base de dados\n"
   ]
  },
  {
   "cell_type": "code",
   "execution_count": null,
   "id": "b2265129",
   "metadata": {},
   "outputs": [],
   "source": [
    "\n",
    "\n",
    "    # para cada processo (linha da tabela)\n",
    "\n",
    "\n",
    "    # abrir a lista de cidades\n",
    "\n",
    "    \n",
    "    # selecionando o cidade\n",
    "\n",
    "    \n",
    "    # mudar para a nova aba\n",
    "\n",
    "    \n",
    "    # preencher o formulário com os dados de busca\n",
    "\n",
    "\n",
    "    # clicar em pesquisar\n",
    "\n",
    "    \n",
    "    # confirmar a pesquisa\n",
    "\n",
    "    \n",
    "    # esperar o resultado da pesquisa e agir de acordo com o resultado\n",
    "  "
   ]
  },
  {
   "cell_type": "code",
   "execution_count": null,
   "id": "d5c695b6",
   "metadata": {},
   "outputs": [],
   "source": []
  }
 ],
 "metadata": {
  "kernelspec": {
   "display_name": "Python 3.9.7 ('base')",
   "language": "python",
   "name": "python3"
  },
  "language_info": {
   "codemirror_mode": {
    "name": "ipython",
    "version": 3
   },
   "file_extension": ".py",
   "mimetype": "text/x-python",
   "name": "python",
   "nbconvert_exporter": "python",
   "pygments_lexer": "ipython3",
   "version": "3.9.7"
  },
  "vscode": {
   "interpreter": {
    "hash": "e5882f1a9d2529a8f07f4964a9aa2777d1ad98b2c770a4f48c3438835058b188"
   }
  }
 },
 "nbformat": 4,
 "nbformat_minor": 5
}
